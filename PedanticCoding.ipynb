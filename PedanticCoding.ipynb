{
 "cells": [
  {
   "cell_type": "code",
   "execution_count": 1,
   "metadata": {},
   "outputs": [
    {
     "name": "stdout",
     "output_type": "stream",
     "text": [
      " Cheese Burger Deluxe with Fries and Drinks \n"
     ]
    }
   ],
   "source": [
    "fries_and_drinks = True\n",
    "sundae = False\n",
    "\n",
    "if (fries_and_drinks):\n",
    "        print(\" Cheese Burger Deluxe with Fries and Drinks \")\n",
    "elif (sundae):\n",
    "    print(\" Cheese Burger Deluxe with sundae \")\n",
    "else:\n",
    "    print(\" Cheese Burger Deluxe \")"
   ]
  },
  {
   "cell_type": "code",
   "execution_count": null,
   "metadata": {},
   "outputs": [],
   "source": []
  }
 ],
 "metadata": {
  "kernelspec": {
   "display_name": "Python 3",
   "language": "python",
   "name": "python3"
  },
  "language_info": {
   "codemirror_mode": {
    "name": "ipython",
    "version": 3
   },
   "file_extension": ".py",
   "mimetype": "text/x-python",
   "name": "python",
   "nbconvert_exporter": "python",
   "pygments_lexer": "ipython3",
   "version": "3.8.3"
  }
 },
 "nbformat": 4,
 "nbformat_minor": 4
}
